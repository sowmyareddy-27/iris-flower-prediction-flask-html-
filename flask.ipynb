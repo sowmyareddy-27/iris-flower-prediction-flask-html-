{
 "cells": [
  {
   "cell_type": "code",
   "execution_count": null,
   "id": "53019a1c",
   "metadata": {},
   "outputs": [
    {
     "name": "stdout",
     "output_type": "stream",
     "text": [
      " * Serving Flask app \"__main__\" (lazy loading)\n",
      " * Environment: production\n",
      "   WARNING: This is a development server. Do not use it in a production deployment.\n",
      "   Use a production WSGI server instead.\n",
      " * Debug mode: on\n"
     ]
    },
    {
     "name": "stderr",
     "output_type": "stream",
     "text": [
      " * Running on http://127.0.0.1:5000/ (Press CTRL+C to quit)\n",
      "127.0.0.1 - - [14/Jun/2021 19:41:48] \"\u001b[37mGET / HTTP/1.1\u001b[0m\" 200 -\n",
      "127.0.0.1 - - [14/Jun/2021 19:42:09] \"\u001b[37mPOST /predict HTTP/1.1\u001b[0m\" 200 -\n"
     ]
    }
   ],
   "source": [
    "import pandas as pd\n",
    "import numpy as np\n",
    "import flask\n",
    "import pickle\n",
    "from flask import Flask, render_template, request\n",
    "app=Flask(__name__)\n",
    "@app.route(\"/\")\n",
    "def index():\n",
    "     return flask.render_template(\"submit.html\")\n",
    "def ValuePredictor(to_predict_list):\n",
    "    to_predict = np.array(to_predict_list).reshape(1,4)\n",
    "    loaded_model = pickle.load(open(\"model.pickel\",\"rb\"))\n",
    "    result = loaded_model.predict(to_predict)\n",
    "    return result[0]\n",
    "@app.route(\"/predict\",methods = [\"POST\",\"GET\"])\n",
    "def result():\n",
    "    if request.method == \"POST\":\n",
    "        to_predict_list = request.form.to_dict()\n",
    "        to_predict_list=list(to_predict_list.values())\n",
    "        to_predict_list = list(map(float, to_predict_list))\n",
    "        result = ValuePredictor(to_predict_list)\n",
    "        prediction = str(result)\n",
    "        return render_template(\"result.html\",prediction=prediction)\n",
    "if __name__ == \"__main__\":\n",
    "    app.run(debug=True,use_reloader=False)"
   ]
  },
  {
   "cell_type": "code",
   "execution_count": null,
   "id": "841e1972",
   "metadata": {},
   "outputs": [],
   "source": []
  }
 ],
 "metadata": {
  "kernelspec": {
   "display_name": "Python 3",
   "language": "python",
   "name": "python3"
  },
  "language_info": {
   "codemirror_mode": {
    "name": "ipython",
    "version": 3
   },
   "file_extension": ".py",
   "mimetype": "text/x-python",
   "name": "python",
   "nbconvert_exporter": "python",
   "pygments_lexer": "ipython3",
   "version": "3.8.8"
  }
 },
 "nbformat": 4,
 "nbformat_minor": 5
}
